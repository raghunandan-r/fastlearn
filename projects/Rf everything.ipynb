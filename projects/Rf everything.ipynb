{
 "cells": [
  {
   "cell_type": "markdown",
   "id": "96735b5e-d076-46d4-aa21-dbe5ae36c7ee",
   "metadata": {},
   "source": [
    "When dealing with tabular data, it is advisable to use RandomForest for model selection. Why, because in the words of Fast.ai's Jeremy Howard, \"it is very difficult to go wrong with an ensemble model such as random forests\". Even with emergence of deep learning and neural networks, randomForests is an ol' trusty algorithm which can be implemented quickly and have uses for it's feature importance if you deem to build something better.\n",
    "\n",
    "This notebook is my implementation of Chapter 7 from fast.ai's Course22. Lets go with the Titanic dataset, look at its features and build a model that iterates from OneR classifier all the way to decision trees and random forests.  "
   ]
  },
  {
   "cell_type": "markdown",
   "id": "6801eb90-45cb-463b-b745-235ac6f494cc",
   "metadata": {},
   "source": [
    "### Setup"
   ]
  },
  {
   "cell_type": "code",
   "execution_count": 136,
   "id": "83130e6b-7b02-41fe-8203-0f1aab29b88a",
   "metadata": {},
   "outputs": [],
   "source": [
    "from fastai.imports import *\n",
    "np.set_printoptions(linewidth=100)"
   ]
  },
  {
   "cell_type": "markdown",
   "id": "d9ffb86b-0b71-4458-9721-251b428ffde0",
   "metadata": {},
   "source": [
    "Here i setup the titanic dataset and use the given test & train split to get the corresponding data. I use the DataFrame.mode() function to find the most common terms across features"
   ]
  },
  {
   "cell_type": "code",
   "execution_count": 4,
   "id": "0f436e28-c9fe-4c26-b3c6-89cd45b78d67",
   "metadata": {},
   "outputs": [
    {
     "name": "stdout",
     "output_type": "stream",
     "text": [
      "titanic.zip: Skipping, found more recently modified local copy (use --force to force download)\n"
     ]
    }
   ],
   "source": [
    "import os\n",
    "iskaggle = os.environ.get('KAGGLE_KERNEL_RUN_TYPE', '')\n",
    "\n",
    "if iskaggle: path = Path('../input/titanic')\n",
    "else:\n",
    "    import zipfile,kaggle\n",
    "    path = Path('titanic')\n",
    "    kaggle.api.competition_download_cli(str(path))\n",
    "    zipfile.ZipFile(f'{path}.zip').extractall(path)\n",
    "\n",
    "df = pd.read_csv(path/'train.csv')\n",
    "tst_df = pd.read_csv(path/'test.csv')\n",
    "modes = df.mode().iloc[0]"
   ]
  },
  {
   "cell_type": "markdown",
   "id": "ed4c5d10-72f6-4cb5-8219-f1c4fd2ef2a0",
   "metadata": {},
   "source": [
    "Before moving forward, lets look at a sample of the dataset. \"Sex\",\"Embarked\" are categorical features whereas \"Age\",\"SibSp\",\"Parch\" and \"Fare are continuous. For the purpose of this notebook, we ignore \"Name\", \"PassengerId\", \"Ticket\" and \"Cabin\". Oh! Also, the dependent variable here is \"Survived\" :)"
   ]
  },
  {
   "cell_type": "code",
   "execution_count": 5,
   "id": "cbb209dd-72cf-40ee-82c9-d8c43ca94015",
   "metadata": {},
   "outputs": [
    {
     "data": {
      "text/html": [
       "<div>\n",
       "<style scoped>\n",
       "    .dataframe tbody tr th:only-of-type {\n",
       "        vertical-align: middle;\n",
       "    }\n",
       "\n",
       "    .dataframe tbody tr th {\n",
       "        vertical-align: top;\n",
       "    }\n",
       "\n",
       "    .dataframe thead th {\n",
       "        text-align: right;\n",
       "    }\n",
       "</style>\n",
       "<table border=\"1\" class=\"dataframe\">\n",
       "  <thead>\n",
       "    <tr style=\"text-align: right;\">\n",
       "      <th></th>\n",
       "      <th>PassengerId</th>\n",
       "      <th>Survived</th>\n",
       "      <th>Pclass</th>\n",
       "      <th>Name</th>\n",
       "      <th>Sex</th>\n",
       "      <th>Age</th>\n",
       "      <th>SibSp</th>\n",
       "      <th>Parch</th>\n",
       "      <th>Ticket</th>\n",
       "      <th>Fare</th>\n",
       "      <th>Cabin</th>\n",
       "      <th>Embarked</th>\n",
       "    </tr>\n",
       "  </thead>\n",
       "  <tbody>\n",
       "    <tr>\n",
       "      <th>0</th>\n",
       "      <td>1</td>\n",
       "      <td>0</td>\n",
       "      <td>3</td>\n",
       "      <td>Braund, Mr. Owen Harris</td>\n",
       "      <td>male</td>\n",
       "      <td>22.0</td>\n",
       "      <td>1</td>\n",
       "      <td>0</td>\n",
       "      <td>A/5 21171</td>\n",
       "      <td>7.2500</td>\n",
       "      <td>NaN</td>\n",
       "      <td>S</td>\n",
       "    </tr>\n",
       "    <tr>\n",
       "      <th>1</th>\n",
       "      <td>2</td>\n",
       "      <td>1</td>\n",
       "      <td>1</td>\n",
       "      <td>Cumings, Mrs. John Bradley (Florence Briggs Thayer)</td>\n",
       "      <td>female</td>\n",
       "      <td>38.0</td>\n",
       "      <td>1</td>\n",
       "      <td>0</td>\n",
       "      <td>PC 17599</td>\n",
       "      <td>71.2833</td>\n",
       "      <td>C85</td>\n",
       "      <td>C</td>\n",
       "    </tr>\n",
       "    <tr>\n",
       "      <th>2</th>\n",
       "      <td>3</td>\n",
       "      <td>1</td>\n",
       "      <td>3</td>\n",
       "      <td>Heikkinen, Miss. Laina</td>\n",
       "      <td>female</td>\n",
       "      <td>26.0</td>\n",
       "      <td>0</td>\n",
       "      <td>0</td>\n",
       "      <td>STON/O2. 3101282</td>\n",
       "      <td>7.9250</td>\n",
       "      <td>NaN</td>\n",
       "      <td>S</td>\n",
       "    </tr>\n",
       "    <tr>\n",
       "      <th>3</th>\n",
       "      <td>4</td>\n",
       "      <td>1</td>\n",
       "      <td>1</td>\n",
       "      <td>Futrelle, Mrs. Jacques Heath (Lily May Peel)</td>\n",
       "      <td>female</td>\n",
       "      <td>35.0</td>\n",
       "      <td>1</td>\n",
       "      <td>0</td>\n",
       "      <td>113803</td>\n",
       "      <td>53.1000</td>\n",
       "      <td>C123</td>\n",
       "      <td>S</td>\n",
       "    </tr>\n",
       "    <tr>\n",
       "      <th>4</th>\n",
       "      <td>5</td>\n",
       "      <td>0</td>\n",
       "      <td>3</td>\n",
       "      <td>Allen, Mr. William Henry</td>\n",
       "      <td>male</td>\n",
       "      <td>35.0</td>\n",
       "      <td>0</td>\n",
       "      <td>0</td>\n",
       "      <td>373450</td>\n",
       "      <td>8.0500</td>\n",
       "      <td>NaN</td>\n",
       "      <td>S</td>\n",
       "    </tr>\n",
       "  </tbody>\n",
       "</table>\n",
       "</div>"
      ],
      "text/plain": [
       "   PassengerId  Survived  Pclass  \\\n",
       "0            1         0       3   \n",
       "1            2         1       1   \n",
       "2            3         1       3   \n",
       "3            4         1       1   \n",
       "4            5         0       3   \n",
       "\n",
       "                                                  Name     Sex   Age  SibSp  \\\n",
       "0                              Braund, Mr. Owen Harris    male  22.0      1   \n",
       "1  Cumings, Mrs. John Bradley (Florence Briggs Thayer)  female  38.0      1   \n",
       "2                               Heikkinen, Miss. Laina  female  26.0      0   \n",
       "3         Futrelle, Mrs. Jacques Heath (Lily May Peel)  female  35.0      1   \n",
       "4                             Allen, Mr. William Henry    male  35.0      0   \n",
       "\n",
       "   Parch            Ticket     Fare Cabin Embarked  \n",
       "0      0         A/5 21171   7.2500   NaN        S  \n",
       "1      0          PC 17599  71.2833   C85        C  \n",
       "2      0  STON/O2. 3101282   7.9250   NaN        S  \n",
       "3      0            113803  53.1000  C123        S  \n",
       "4      0            373450   8.0500   NaN        S  "
      ]
     },
     "execution_count": 5,
     "metadata": {},
     "output_type": "execute_result"
    }
   ],
   "source": [
    "df.head()"
   ]
  },
  {
   "cell_type": "markdown",
   "id": "422f9581-7f7e-44ab-bafa-e5bd14ec9293",
   "metadata": {},
   "source": [
    "Here I do some data processing, note that decision trees and random forest models do not need much preprocessing, however I do take an exponential of the Fare and convert values in \"Sex\" (for example: female, male to 0,1) and \"Embarked\" columns to categorical variables."
   ]
  },
  {
   "cell_type": "code",
   "execution_count": 8,
   "id": "90dc7137-33a9-4cd8-b255-35f7b1525692",
   "metadata": {},
   "outputs": [],
   "source": [
    "def proc_data(df):\n",
    "    df['Fare'] = df.Fare.fillna(0)\n",
    "    df.fillna(modes, inplace = True)\n",
    "    df['LogFare'] = np.log1p(df.Fare)\n",
    "    df['Sex'] = pd.Categorical(df.Sex)\n",
    "    df['Embarked'] = pd.Categorical(df.Embarked)\n",
    "\n",
    "proc_data(df)\n",
    "proc_data(tst_df)"
   ]
  },
  {
   "cell_type": "markdown",
   "id": "5a79e16c-fd5a-44a9-982c-460b9b7d61de",
   "metadata": {},
   "source": [
    "Note that \"Pclass\" isn't considered as categorical here because it is ordinal in nature and we need the model to see it that way."
   ]
  },
  {
   "cell_type": "code",
   "execution_count": 18,
   "id": "74ae1434-5867-471d-ba86-94da0324f34f",
   "metadata": {},
   "outputs": [],
   "source": [
    "dep = 'Survived'\n",
    "cat = ['Sex','Embarked']\n",
    "cont = ['Pclass','Age','LogFare','SibSp','Parch']"
   ]
  },
  {
   "cell_type": "markdown",
   "id": "5ed61d00-d88e-46cc-ac89-885455041035",
   "metadata": {},
   "source": [
    "Females have a higher chance of survival compared to males and when comparing the distribution by 'Sex', it is seen that there isn't a heavy imabalance. Now the next step is to use predict survivability based on \"Sex\""
   ]
  },
  {
   "cell_type": "markdown",
   "id": "a66b9fe8-2629-4fe9-a685-bb61eec2681a",
   "metadata": {},
   "source": [
    "### Finding thresholds"
   ]
  },
  {
   "cell_type": "code",
   "execution_count": 14,
   "id": "60de930d-fb1c-4173-9b80-fd111989807e",
   "metadata": {},
   "outputs": [
    {
     "data": {
      "text/plain": [
       "[Text(0.5, 1.0, 'Distribution')]"
      ]
     },
     "execution_count": 14,
     "metadata": {},
     "output_type": "execute_result"
    },
    {
     "data": {
      "image/png": "[encoded data removed]",
      "text/plain": [
       "<Figure size 1000x500 with 2 Axes>"
      ]
     },
     "metadata": {},
     "output_type": "display_data"
    }
   ],
   "source": [
    "import seaborn as sns\n",
    "\n",
    "fig, axs = plt.subplots(1,2, figsize = (10,5))\n",
    "sns.barplot(data = df, y= dep, x=\"Sex\", ax=axs[0]).set(title=\"Survivor rate\")\n",
    "sns.countplot(data = df, x=\"Sex\", ax=axs[1]).set(title=\"Distribution\")"
   ]
  },
  {
   "cell_type": "code",
   "execution_count": 87,
   "id": "f912bb90-0285-4acb-8d7c-9b519065b93d",
   "metadata": {},
   "outputs": [],
   "source": [
    "from sklearn.model_selection import train_test_split\n",
    "\n",
    "#random.seed(400)\n",
    "trn_df, val_df = train_test_split(df, test_size = 0.2)\n",
    "trn_df[cat] = trn_df[cat].apply(lambda x: x.cat.codes)\n",
    "val_df[cat] = val_df[cat].apply(lambda x: x.cat.codes)"
   ]
  },
  {
   "cell_type": "code",
   "execution_count": 88,
   "id": "13585a0b-4fdc-4757-b756-5202904847de",
   "metadata": {},
   "outputs": [],
   "source": [
    "def xs_y(df):\n",
    "    xs = df[cont+cat].copy()\n",
    "    return xs, df[dep] if dep in df else None\n",
    "\n",
    "trn_xs, trn_y = xs_y(trn_df)\n",
    "val_xs, val_y = xs_y(val_df)\n",
    "    "
   ]
  },
  {
   "cell_type": "markdown",
   "id": "e8a7f89c-aa96-42fc-87a8-9dd42dedce17",
   "metadata": {},
   "source": [
    "A simple model to predict survivability if the 'Sex' is female:"
   ]
  },
  {
   "cell_type": "code",
   "execution_count": 45,
   "id": "9b94605f-bb8c-4bf2-aef4-c77af1b77cc4",
   "metadata": {},
   "outputs": [],
   "source": [
    "preds = val_xs.Sex == 0"
   ]
  },
  {
   "cell_type": "code",
   "execution_count": 46,
   "id": "f899d4ae-6ade-4220-b461-3d757256e312",
   "metadata": {},
   "outputs": [
    {
     "data": {
      "text/plain": [
       "0.22905027932960895"
      ]
     },
     "execution_count": 46,
     "metadata": {},
     "output_type": "execute_result"
    }
   ],
   "source": [
    "from sklearn.metrics import mean_absolute_error\n",
    "mean_absolute_error(val_y, preds)"
   ]
  },
  {
   "cell_type": "markdown",
   "id": "8114a56d-af70-4b1c-879c-1ad7f2b0924b",
   "metadata": {},
   "source": [
    "Pretty good metric for one simple feature right? Now let's see how LogFare turns out as a predictor."
   ]
  },
  {
   "cell_type": "code",
   "execution_count": 25,
   "id": "1691b44b-74cd-4209-96a8-cde7716aa93e",
   "metadata": {},
   "outputs": [
    {
     "data": {
      "text/plain": [
       "<Axes: xlabel='LogFare', ylabel='Density'>"
      ]
     },
     "execution_count": 25,
     "metadata": {},
     "output_type": "execute_result"
    },
    {
     "data": {
      "image/png": "[encoded data removed]",
      "text/plain": [
       "<Figure size 1000x500 with 2 Axes>"
      ]
     },
     "metadata": {},
     "output_type": "display_data"
    }
   ],
   "source": [
    "df_fare = trn_df[trn_df.LogFare > 0]\n",
    "fig, axs = plt.subplots(1,2, figsize = (10,5))\n",
    "sns.boxplot(data = df_fare, x=dep, y= df_fare.LogFare, ax=axs[0])\n",
    "sns.kdeplot(data = df_fare, x=\"LogFare\", ax=axs[1])"
   ]
  },
  {
   "cell_type": "markdown",
   "id": "bdaa4022-15dc-42dc-b5ae-77ed1cbf7b1e",
   "metadata": {},
   "source": [
    "The mean of Logfare for those who did not survive is somewhere around 2.5, hence I use 2.7 as a threshold to determine our predictions"
   ]
  },
  {
   "cell_type": "code",
   "execution_count": 47,
   "id": "c0354544-eab3-4547-ba71-f66dd38e7fdb",
   "metadata": {},
   "outputs": [
    {
     "data": {
      "text/plain": [
       "0.3463687150837989"
      ]
     },
     "execution_count": 47,
     "metadata": {},
     "output_type": "execute_result"
    }
   ],
   "source": [
    "preds = val_xs.LogFare > 2.7\n",
    "mean_absolute_error(preds, val_y)"
   ]
  },
  {
   "cell_type": "markdown",
   "id": "96540d64-7175-489e-978e-a0f1fed873e8",
   "metadata": {},
   "source": [
    "### Why do we need an impurity score?"
   ]
  },
  {
   "cell_type": "markdown",
   "id": "aaf09be5-ec76-4e28-8809-311527a24f5d",
   "metadata": {},
   "source": [
    "There is a need for a better metric to find whether the threshold splits groups into distinct categories. We use an impurity score which takes the standard deviation of the corresponding dependent variable to verify whether the groups are separated properly. In our case, if a threshold results in more examples classified as 1s (Survived), then the impurity score would be less. \n",
    "\n",
    "Note that higher the score, greater the impurity and therefore a poor choice of threshold value."
   ]
  },
  {
   "cell_type": "code",
   "execution_count": 89,
   "id": "ba54eab6-c8b9-4845-9e1f-7f9c47782225",
   "metadata": {},
   "outputs": [],
   "source": [
    "def score(col, y, split):\n",
    "    lhs = col <= split\n",
    "    return (get_score(lhs, y) + get_score(~lhs, y))/len(y)\n",
    "\n",
    "def get_score(side, y):\n",
    "    tot = side.sum()\n",
    "    if tot <= 1: return 0\n",
    "    return y[side].std()*tot\n",
    "    "
   ]
  },
  {
   "cell_type": "code",
   "execution_count": 90,
   "id": "8d4ead91-6bd0-49f9-b8e0-4524717cca49",
   "metadata": {},
   "outputs": [
    {
     "data": {
      "text/plain": [
       "0.41414800879325775"
      ]
     },
     "execution_count": 90,
     "metadata": {},
     "output_type": "execute_result"
    }
   ],
   "source": [
    "score(trn_xs['Sex'], trn_y, 0.5)"
   ]
  },
  {
   "cell_type": "code",
   "execution_count": 91,
   "id": "6e96c9c5-1908-416c-ac21-80afc6fd6e1d",
   "metadata": {},
   "outputs": [
    {
     "data": {
      "text/plain": [
       "0.46221930969305186"
      ]
     },
     "execution_count": 91,
     "metadata": {},
     "output_type": "execute_result"
    }
   ],
   "source": [
    "score(trn_xs['LogFare'], trn_y, 2.44379)"
   ]
  },
  {
   "cell_type": "markdown",
   "id": "37f49780-5f76-4f55-8b6f-f14a3caee2e1",
   "metadata": {},
   "source": [
    "\"Sex\" fares better than \"LogFare\" here, how about setting up a function to automatically determine a threshold that results in best split as per our impurity score? "
   ]
  },
  {
   "cell_type": "code",
   "execution_count": 92,
   "id": "a46bdd81-6686-478e-b690-18da89a6ef05",
   "metadata": {},
   "outputs": [
    {
     "data": {
      "text/plain": [
       "(2.4390808375825834, 0.46127066301081265)"
      ]
     },
     "execution_count": 92,
     "metadata": {},
     "output_type": "execute_result"
    }
   ],
   "source": [
    "def best_split(df, y, col):\n",
    "    unq = df[col].dropna().unique()\n",
    "    scores = np.array([score(df[col], y, o) for o in unq if not np.isnan(o)])\n",
    "    idx = scores.argmin()\n",
    "    return unq[idx], scores[idx]\n",
    "\n",
    "best_split(trn_xs, trn_y, \"LogFare\")"
   ]
  },
  {
   "cell_type": "code",
   "execution_count": 108,
   "id": "7fcc37b5-4047-4b4b-82b6-e725a8a1a18b",
   "metadata": {},
   "outputs": [
    {
     "data": {
      "text/plain": [
       "{'Sex': (0, 0.41414800879325775),\n",
       " 'Embarked': (0, 0.48014791444506205),\n",
       " 'Pclass': (2, 0.4575155591971377),\n",
       " 'Age': (63.0, 0.4825003040505756),\n",
       " 'LogFare': (2.4390808375825834, 0.46127066301081265),\n",
       " 'SibSp': (4, 0.4808038181578302),\n",
       " 'Parch': (0, 0.482323042902411)}"
      ]
     },
     "execution_count": 108,
     "metadata": {},
     "output_type": "execute_result"
    }
   ],
   "source": [
    "cols = cat+cont\n",
    "{o: best_split(trn_xs, trn_y,o) for o in cols}"
   ]
  },
  {
   "cell_type": "markdown",
   "id": "ba55d50b-f212-4f77-a7f1-c30540eba0f2",
   "metadata": {},
   "source": [
    "\"Sex\" would be the first predictor. Let's look at the next set of predictors for our model, by removing \"Sex\" form `cols`"
   ]
  },
  {
   "cell_type": "code",
   "execution_count": 111,
   "id": "3db5cb59-8b67-43e8-9f1f-5dfcf08c9d47",
   "metadata": {},
   "outputs": [
    {
     "data": {
      "text/plain": [
       "{'Embarked': (0, 0.39166879347494743),\n",
       " 'Pclass': (1, 0.3843651127396164),\n",
       " 'Age': (9.0, 0.38841912794090866),\n",
       " 'LogFare': (2.7788192719904172, 0.38264146195354404),\n",
       " 'SibSp': (4, 0.3934505108118341),\n",
       " 'Parch': (0, 0.3945603968976307)}"
      ]
     },
     "execution_count": 111,
     "metadata": {},
     "output_type": "execute_result"
    }
   ],
   "source": [
    "cols.remove('Sex')\n",
    "ismale = trn_df.Sex==1\n",
    "males, females = trn_df[ismale],trn_df[~ismale]\n",
    "\n",
    "{o: best_split(males, trn_y[ismale], o) for o in cols}"
   ]
  },
  {
   "cell_type": "code",
   "execution_count": 112,
   "id": "0f2b0be2-5312-4e0b-b346-6704df02ba02",
   "metadata": {},
   "outputs": [
    {
     "data": {
      "text/plain": [
       "{'Embarked': (0, 0.43435165774358364),\n",
       " 'Pclass': (2, 0.33558335599293315),\n",
       " 'Age': (50.0, 0.4266695340546771),\n",
       " 'LogFare': (4.256321678298823, 0.4026338739250313),\n",
       " 'SibSp': (2, 0.421445832851724),\n",
       " 'Parch': (3, 0.4380590153581859)}"
      ]
     },
     "execution_count": 112,
     "metadata": {},
     "output_type": "execute_result"
    }
   ],
   "source": [
    "{o: best_split(females, trn_y[~ismale], o) for o in cols}"
   ]
  },
  {
   "cell_type": "markdown",
   "id": "1df6368c-bcdf-4cdb-9291-838fac3a905c",
   "metadata": {},
   "source": [
    "This method is similar to a decision tree, which finds the best value to split features and create a tree based model for prediction"
   ]
  },
  {
   "cell_type": "markdown",
   "id": "971fe25a-9a3d-4082-bbe4-38629a318932",
   "metadata": {},
   "source": [
    "## Decision Tree"
   ]
  },
  {
   "cell_type": "code",
   "execution_count": 113,
   "id": "debcc7d9-5b74-4ebb-9fa4-623db5e9f24b",
   "metadata": {},
   "outputs": [],
   "source": [
    "from sklearn.tree import DecisionTreeClassifier, export_graphviz\n",
    "\n",
    "m = DecisionTreeClassifier(max_leaf_nodes = 4).fit(trn_xs, trn_y)"
   ]
  },
  {
   "cell_type": "code",
   "execution_count": 114,
   "id": "6e13addb-f7bd-42a6-bd75-3245d454def0",
   "metadata": {},
   "outputs": [],
   "source": [
    "import graphviz\n",
    "\n",
    "def draw_tree(t, df, size=10, ratio=0.6, precision=2, **kwargs):\n",
    "    s=export_graphviz(t, out_file=None, feature_names=df.columns, filled=True, rounded=True,\n",
    "                      special_characters=True, rotate=False, precision=precision, **kwargs)\n",
    "    return graphviz.Source(re.sub('Tree {', f'Tree {{ size={size}; ratio={ratio}', s))"
   ]
  },
  {
   "cell_type": "markdown",
   "id": "2e07717e-832d-403d-983a-02e507ebdcd4",
   "metadata": {},
   "source": [
    "The decision tree determines split similar to our findings above, starting with \"Sex\" and then \"Pclass\" as the second split."
   ]
  },
  {
   "cell_type": "code",
   "execution_count": 115,
   "id": "8d16ef7f-0511-48ac-8ea0-c6ffdcee8bd5",
   "metadata": {},
   "outputs": [
    {
     "data": {
      "image/svg+xml": [
       "<?xml version=\"1.0\" encoding=\"UTF-8\" standalone=\"no\"?>\n",
       "<!DOCTYPE svg PUBLIC \"-//W3C//DTD SVG 1.1//EN\"\n",
       " \"http://www.w3.org/Graphics/SVG/1.1/DTD/svg11.dtd\">\n",
       "<!-- Generated by graphviz version 2.43.0 (0)\n",
       " -->\n",
       "<!-- Title: Tree Pages: 1 -->\n",
       "<svg width=\"600pt\" height=\"363pt\"\n",
       " viewBox=\"0.00 0.00 599.50 362.60\" xmlns=\"http://www.w3.org/2000/svg\" xmlns:xlink=\"http://www.w3.org/1999/xlink\">\n",
       "<g id=\"graph0\" class=\"graph\" transform=\"scale(1 1) rotate(0) translate(4 358.6)\">\n",
       "<title>Tree</title>\n",
       "<polygon fill=\"white\" stroke=\"transparent\" points=\"-4,4 -4,-358.6 595.5,-358.6 595.5,4 -4,4\"/>\n",
       "<!-- 0 -->\n",
       "<g id=\"node1\" class=\"node\">\n",
       "<title>0</title>\n",
       "<path fill=\"#f5d1b6\" stroke=\"black\" d=\"M353,-342C353,-342 228,-342 228,-342 222,-342 216,-336 216,-330 216,-330 216,-286 216,-286 216,-280 222,-274 228,-274 228,-274 353,-274 353,-274 359,-274 365,-280 365,-286 365,-286 365,-330 365,-330 365,-336 359,-342 353,-342\"/>\n",
       "<text text-anchor=\"start\" x=\"255.5\" y=\"-326.8\" font-family=\"Helvetica,sans-Serif\" font-size=\"14.00\">Sex ≤ 0.5</text>\n",
       "<text text-anchor=\"start\" x=\"251\" y=\"-311.8\" font-family=\"Helvetica,sans-Serif\" font-size=\"14.00\">gini = 0.47</text>\n",
       "<text text-anchor=\"start\" x=\"237.5\" y=\"-296.8\" font-family=\"Helvetica,sans-Serif\" font-size=\"14.00\">samples = 712</text>\n",
       "<text text-anchor=\"start\" x=\"224\" y=\"-281.8\" font-family=\"Helvetica,sans-Serif\" font-size=\"14.00\">value = [436, 276]</text>\n",
       "</g>\n",
       "<!-- 1 -->\n",
       "<g id=\"node2\" class=\"node\">\n",
       "<title>1</title>\n",
       "<path fill=\"#81c1ef\" stroke=\"black\" d=\"M269.5,-201C269.5,-201 153.5,-201 153.5,-201 147.5,-201 141.5,-195 141.5,-189 141.5,-189 141.5,-145 141.5,-145 141.5,-139 147.5,-133 153.5,-133 153.5,-133 269.5,-133 269.5,-133 275.5,-133 281.5,-139 281.5,-145 281.5,-145 281.5,-189 281.5,-189 281.5,-195 275.5,-201 269.5,-201\"/>\n",
       "<text text-anchor=\"start\" x=\"168\" y=\"-185.8\" font-family=\"Helvetica,sans-Serif\" font-size=\"14.00\">Pclass ≤ 2.5</text>\n",
       "<text text-anchor=\"start\" x=\"172\" y=\"-170.8\" font-family=\"Helvetica,sans-Serif\" font-size=\"14.00\">gini = 0.39</text>\n",
       "<text text-anchor=\"start\" x=\"158.5\" y=\"-155.8\" font-family=\"Helvetica,sans-Serif\" font-size=\"14.00\">samples = 254</text>\n",
       "<text text-anchor=\"start\" x=\"149.5\" y=\"-140.8\" font-family=\"Helvetica,sans-Serif\" font-size=\"14.00\">value = [68, 186]</text>\n",
       "</g>\n",
       "<!-- 0&#45;&gt;1 -->\n",
       "<g id=\"edge1\" class=\"edge\">\n",
       "<title>0&#45;&gt;1</title>\n",
       "<path fill=\"none\" stroke=\"black\" d=\"M271.58,-273.71C260.68,-254.54 246.89,-230.27 235.27,-209.82\"/>\n",
       "<polygon fill=\"black\" stroke=\"black\" points=\"238.25,-207.99 230.27,-201.02 232.17,-211.45 238.25,-207.99\"/>\n",
       "<text text-anchor=\"middle\" x=\"223.63\" y=\"-221.43\" font-family=\"Helvetica,sans-Serif\" font-size=\"14.00\">True</text>\n",
       "</g>\n",
       "<!-- 2 -->\n",
       "<g id=\"node5\" class=\"node\">\n",
       "<title>2</title>\n",
       "<path fill=\"#eba069\" stroke=\"black\" d=\"M427.5,-201C427.5,-201 311.5,-201 311.5,-201 305.5,-201 299.5,-195 299.5,-189 299.5,-189 299.5,-145 299.5,-145 299.5,-139 305.5,-133 311.5,-133 311.5,-133 427.5,-133 427.5,-133 433.5,-133 439.5,-139 439.5,-145 439.5,-145 439.5,-189 439.5,-189 439.5,-195 433.5,-201 427.5,-201\"/>\n",
       "<text text-anchor=\"start\" x=\"326\" y=\"-185.8\" font-family=\"Helvetica,sans-Serif\" font-size=\"14.00\">Pclass ≤ 1.5</text>\n",
       "<text text-anchor=\"start\" x=\"330\" y=\"-170.8\" font-family=\"Helvetica,sans-Serif\" font-size=\"14.00\">gini = 0.32</text>\n",
       "<text text-anchor=\"start\" x=\"316.5\" y=\"-155.8\" font-family=\"Helvetica,sans-Serif\" font-size=\"14.00\">samples = 458</text>\n",
       "<text text-anchor=\"start\" x=\"307.5\" y=\"-140.8\" font-family=\"Helvetica,sans-Serif\" font-size=\"14.00\">value = [368, 90]</text>\n",
       "</g>\n",
       "<!-- 0&#45;&gt;2 -->\n",
       "<g id=\"edge4\" class=\"edge\">\n",
       "<title>0&#45;&gt;2</title>\n",
       "<path fill=\"none\" stroke=\"black\" d=\"M309.42,-273.71C320.32,-254.54 334.11,-230.27 345.73,-209.82\"/>\n",
       "<polygon fill=\"black\" stroke=\"black\" points=\"348.83,-211.45 350.73,-201.02 342.75,-207.99 348.83,-211.45\"/>\n",
       "<text text-anchor=\"middle\" x=\"357.37\" y=\"-221.43\" font-family=\"Helvetica,sans-Serif\" font-size=\"14.00\">False</text>\n",
       "</g>\n",
       "<!-- 3 -->\n",
       "<g id=\"node3\" class=\"node\">\n",
       "<title>3</title>\n",
       "<path fill=\"#41a1e6\" stroke=\"black\" d=\"M119,-62.5C119,-62.5 12,-62.5 12,-62.5 6,-62.5 0,-56.5 0,-50.5 0,-50.5 0,-21.5 0,-21.5 0,-15.5 6,-9.5 12,-9.5 12,-9.5 119,-9.5 119,-9.5 125,-9.5 131,-15.5 131,-21.5 131,-21.5 131,-50.5 131,-50.5 131,-56.5 125,-62.5 119,-62.5\"/>\n",
       "<text text-anchor=\"start\" x=\"26\" y=\"-47.3\" font-family=\"Helvetica,sans-Serif\" font-size=\"14.00\">gini = 0.07</text>\n",
       "<text text-anchor=\"start\" x=\"12.5\" y=\"-32.3\" font-family=\"Helvetica,sans-Serif\" font-size=\"14.00\">samples = 135</text>\n",
       "<text text-anchor=\"start\" x=\"8\" y=\"-17.3\" font-family=\"Helvetica,sans-Serif\" font-size=\"14.00\">value = [5, 130]</text>\n",
       "</g>\n",
       "<!-- 1&#45;&gt;3 -->\n",
       "<g id=\"edge2\" class=\"edge\">\n",
       "<title>1&#45;&gt;3</title>\n",
       "<path fill=\"none\" stroke=\"black\" d=\"M173.9,-132.78C151.93,-113.37 124.31,-88.96 102.45,-69.65\"/>\n",
       "<polygon fill=\"black\" stroke=\"black\" points=\"104.49,-66.78 94.68,-62.78 99.85,-72.02 104.49,-66.78\"/>\n",
       "</g>\n",
       "<!-- 4 -->\n",
       "<g id=\"node4\" class=\"node\">\n",
       "<title>4</title>\n",
       "<path fill=\"#fcf1e9\" stroke=\"black\" d=\"M268,-62.5C268,-62.5 161,-62.5 161,-62.5 155,-62.5 149,-56.5 149,-50.5 149,-50.5 149,-21.5 149,-21.5 149,-15.5 155,-9.5 161,-9.5 161,-9.5 268,-9.5 268,-9.5 274,-9.5 280,-15.5 280,-21.5 280,-21.5 280,-50.5 280,-50.5 280,-56.5 274,-62.5 268,-62.5\"/>\n",
       "<text text-anchor=\"start\" x=\"179.5\" y=\"-47.3\" font-family=\"Helvetica,sans-Serif\" font-size=\"14.00\">gini = 0.5</text>\n",
       "<text text-anchor=\"start\" x=\"161.5\" y=\"-32.3\" font-family=\"Helvetica,sans-Serif\" font-size=\"14.00\">samples = 119</text>\n",
       "<text text-anchor=\"start\" x=\"157\" y=\"-17.3\" font-family=\"Helvetica,sans-Serif\" font-size=\"14.00\">value = [63, 56]</text>\n",
       "</g>\n",
       "<!-- 1&#45;&gt;4 -->\n",
       "<g id=\"edge3\" class=\"edge\">\n",
       "<title>1&#45;&gt;4</title>\n",
       "<path fill=\"none\" stroke=\"black\" d=\"M212.27,-132.78C212.7,-114.47 213.23,-91.73 213.66,-73\"/>\n",
       "<polygon fill=\"black\" stroke=\"black\" points=\"217.17,-72.86 213.9,-62.78 210.17,-72.7 217.17,-72.86\"/>\n",
       "</g>\n",
       "<!-- 5 -->\n",
       "<g id=\"node6\" class=\"node\">\n",
       "<title>5</title>\n",
       "<path fill=\"#f4cbae\" stroke=\"black\" d=\"M421,-62.5C421,-62.5 314,-62.5 314,-62.5 308,-62.5 302,-56.5 302,-50.5 302,-50.5 302,-21.5 302,-21.5 302,-15.5 308,-9.5 314,-9.5 314,-9.5 421,-9.5 421,-9.5 427,-9.5 433,-15.5 433,-21.5 433,-21.5 433,-50.5 433,-50.5 433,-56.5 427,-62.5 421,-62.5\"/>\n",
       "<text text-anchor=\"start\" x=\"328\" y=\"-47.3\" font-family=\"Helvetica,sans-Serif\" font-size=\"14.00\">gini = 0.47</text>\n",
       "<text text-anchor=\"start\" x=\"319\" y=\"-32.3\" font-family=\"Helvetica,sans-Serif\" font-size=\"14.00\">samples = 97</text>\n",
       "<text text-anchor=\"start\" x=\"310\" y=\"-17.3\" font-family=\"Helvetica,sans-Serif\" font-size=\"14.00\">value = [61, 36]</text>\n",
       "</g>\n",
       "<!-- 2&#45;&gt;5 -->\n",
       "<g id=\"edge5\" class=\"edge\">\n",
       "<title>2&#45;&gt;5</title>\n",
       "<path fill=\"none\" stroke=\"black\" d=\"M368.98,-132.78C368.7,-114.47 368.35,-91.73 368.06,-73\"/>\n",
       "<polygon fill=\"black\" stroke=\"black\" points=\"371.55,-72.73 367.9,-62.78 364.56,-72.83 371.55,-72.73\"/>\n",
       "</g>\n",
       "<!-- 6 -->\n",
       "<g id=\"node7\" class=\"node\">\n",
       "<title>6</title>\n",
       "<path fill=\"#ea975c\" stroke=\"black\" d=\"M579.5,-62.5C579.5,-62.5 463.5,-62.5 463.5,-62.5 457.5,-62.5 451.5,-56.5 451.5,-50.5 451.5,-50.5 451.5,-21.5 451.5,-21.5 451.5,-15.5 457.5,-9.5 463.5,-9.5 463.5,-9.5 579.5,-9.5 579.5,-9.5 585.5,-9.5 591.5,-15.5 591.5,-21.5 591.5,-21.5 591.5,-50.5 591.5,-50.5 591.5,-56.5 585.5,-62.5 579.5,-62.5\"/>\n",
       "<text text-anchor=\"start\" x=\"482\" y=\"-47.3\" font-family=\"Helvetica,sans-Serif\" font-size=\"14.00\">gini = 0.25</text>\n",
       "<text text-anchor=\"start\" x=\"468.5\" y=\"-32.3\" font-family=\"Helvetica,sans-Serif\" font-size=\"14.00\">samples = 361</text>\n",
       "<text text-anchor=\"start\" x=\"459.5\" y=\"-17.3\" font-family=\"Helvetica,sans-Serif\" font-size=\"14.00\">value = [307, 54]</text>\n",
       "</g>\n",
       "<!-- 2&#45;&gt;6 -->\n",
       "<g id=\"edge6\" class=\"edge\">\n",
       "<title>2&#45;&gt;6</title>\n",
       "<path fill=\"none\" stroke=\"black\" d=\"M408.64,-132.78C431.62,-113.28 460.53,-88.75 483.33,-69.39\"/>\n",
       "<polygon fill=\"black\" stroke=\"black\" points=\"485.76,-71.92 491.12,-62.78 481.23,-66.58 485.76,-71.92\"/>\n",
       "</g>\n",
       "</g>\n",
       "</svg>\n"
      ],
      "text/plain": [
       "<graphviz.sources.Source at 0x7fd1d435b5b0>"
      ]
     },
     "execution_count": 115,
     "metadata": {},
     "output_type": "execute_result"
    }
   ],
   "source": [
    "draw_tree(m, trn_xs)"
   ]
  },
  {
   "cell_type": "markdown",
   "id": "8cb7a198-b9aa-4376-9f4f-cf8efda154b6",
   "metadata": {},
   "source": [
    "Gini scores are similar to impurity scores, and they are calculated as shown below"
   ]
  },
  {
   "cell_type": "code",
   "execution_count": 117,
   "id": "e5245e19-32c3-4e18-b4fb-905b89f18809",
   "metadata": {},
   "outputs": [
    {
     "data": {
      "text/plain": [
       "(0.3828350034484158, 0.3064437162277842)"
      ]
     },
     "execution_count": 117,
     "metadata": {},
     "output_type": "execute_result"
    }
   ],
   "source": [
    "def gini(cond):\n",
    "    act = df.loc[cond, dep]\n",
    "    return 1 - act.mean()**2 - (1-act).mean()**2\n",
    "\n",
    "gini(df.Sex=='female'),gini(df.Sex=='male')"
   ]
  },
  {
   "cell_type": "code",
   "execution_count": 119,
   "id": "0c37c9e6-e677-4987-9a80-a96e3c8aea85",
   "metadata": {},
   "outputs": [
    {
     "data": {
      "text/plain": [
       "0.21787709497206703"
      ]
     },
     "execution_count": 119,
     "metadata": {},
     "output_type": "execute_result"
    }
   ],
   "source": [
    "mean_absolute_error(val_y,m.predict(val_xs))"
   ]
  },
  {
   "cell_type": "markdown",
   "id": "0e8da728-215f-45f5-87a0-023ed924a7e1",
   "metadata": {},
   "source": [
    "The error metric is as good as our simple one feature predictor shown earlier, but that could also be because we are dealing with a limited dataset. Lets change our model by requiring each leaf node to contain atleast 50 data points and look at how the tree is modeled."
   ]
  },
  {
   "cell_type": "code",
   "execution_count": 120,
   "id": "82142be4-14cd-4a34-91a0-cebfb2ae5d58",
   "metadata": {},
   "outputs": [
    {
     "data": {
      "image/svg+xml": [
       "<?xml version=\"1.0\" encoding=\"UTF-8\" standalone=\"no\"?>\n",
       "<!DOCTYPE svg PUBLIC \"-//W3C//DTD SVG 1.1//EN\"\n",
       " \"http://www.w3.org/Graphics/SVG/1.1/DTD/svg11.dtd\">\n",
       "<!-- Generated by graphviz version 2.43.0 (0)\n",
       " -->\n",
       "<!-- Title: Tree Pages: 1 -->\n",
       "<svg width=\"1310pt\" height=\"789pt\"\n",
       " viewBox=\"0.00 0.00 1309.67 789.00\" xmlns=\"http://www.w3.org/2000/svg\" xmlns:xlink=\"http://www.w3.org/1999/xlink\">\n",
       "<g id=\"graph0\" class=\"graph\" transform=\"scale(1 1) rotate(0) translate(4 785)\">\n",
       "<title>Tree</title>\n",
       "<polygon fill=\"white\" stroke=\"transparent\" points=\"-4,4 -4,-785 1305.67,-785 1305.67,4 -4,4\"/>\n",
       "<!-- 0 -->\n",
       "<g id=\"node1\" class=\"node\">\n",
       "<title>0</title>\n",
       "<path fill=\"#f5d1b6\" stroke=\"black\" d=\"M650.98,-781C650.98,-781 525.98,-781 525.98,-781 519.98,-781 513.98,-775 513.98,-769 513.98,-769 513.98,-725 513.98,-725 513.98,-719 519.98,-713 525.98,-713 525.98,-713 650.98,-713 650.98,-713 656.98,-713 662.98,-719 662.98,-725 662.98,-725 662.98,-769 662.98,-769 662.98,-775 656.98,-781 650.98,-781\"/>\n",
       "<text text-anchor=\"start\" x=\"553.48\" y=\"-765.8\" font-family=\"Helvetica,sans-Serif\" font-size=\"14.00\">Sex ≤ 0.5</text>\n",
       "<text text-anchor=\"start\" x=\"548.98\" y=\"-750.8\" font-family=\"Helvetica,sans-Serif\" font-size=\"14.00\">gini = 0.47</text>\n",
       "<text text-anchor=\"start\" x=\"535.48\" y=\"-735.8\" font-family=\"Helvetica,sans-Serif\" font-size=\"14.00\">samples = 712</text>\n",
       "<text text-anchor=\"start\" x=\"521.98\" y=\"-720.8\" font-family=\"Helvetica,sans-Serif\" font-size=\"14.00\">value = [436, 276]</text>\n",
       "</g>\n",
       "<!-- 1 -->\n",
       "<g id=\"node2\" class=\"node\">\n",
       "<title>1</title>\n",
       "<path fill=\"#81c1ef\" stroke=\"black\" d=\"M537.48,-677C537.48,-677 421.48,-677 421.48,-677 415.48,-677 409.48,-671 409.48,-665 409.48,-665 409.48,-621 409.48,-621 409.48,-615 415.48,-609 421.48,-609 421.48,-609 537.48,-609 537.48,-609 543.48,-609 549.48,-615 549.48,-621 549.48,-621 549.48,-665 549.48,-665 549.48,-671 543.48,-677 537.48,-677\"/>\n",
       "<text text-anchor=\"start\" x=\"435.98\" y=\"-661.8\" font-family=\"Helvetica,sans-Serif\" font-size=\"14.00\">Pclass ≤ 2.5</text>\n",
       "<text text-anchor=\"start\" x=\"439.98\" y=\"-646.8\" font-family=\"Helvetica,sans-Serif\" font-size=\"14.00\">gini = 0.39</text>\n",
       "<text text-anchor=\"start\" x=\"426.48\" y=\"-631.8\" font-family=\"Helvetica,sans-Serif\" font-size=\"14.00\">samples = 254</text>\n",
       "<text text-anchor=\"start\" x=\"417.48\" y=\"-616.8\" font-family=\"Helvetica,sans-Serif\" font-size=\"14.00\">value = [68, 186]</text>\n",
       "</g>\n",
       "<!-- 0&#45;&gt;1 -->\n",
       "<g id=\"edge1\" class=\"edge\">\n",
       "<title>0&#45;&gt;1</title>\n",
       "<path fill=\"none\" stroke=\"black\" d=\"M553.09,-712.88C543.39,-703.8 532.75,-693.85 522.66,-684.4\"/>\n",
       "<polygon fill=\"black\" stroke=\"black\" points=\"524.76,-681.58 515.07,-677.3 519.98,-686.69 524.76,-681.58\"/>\n",
       "<text text-anchor=\"middle\" x=\"515.9\" y=\"-698.59\" font-family=\"Helvetica,sans-Serif\" font-size=\"14.00\">True</text>\n",
       "</g>\n",
       "<!-- 8 -->\n",
       "<g id=\"node9\" class=\"node\">\n",
       "<title>8</title>\n",
       "<path fill=\"#eba069\" stroke=\"black\" d=\"M755.48,-677C755.48,-677 639.48,-677 639.48,-677 633.48,-677 627.48,-671 627.48,-665 627.48,-665 627.48,-621 627.48,-621 627.48,-615 633.48,-609 639.48,-609 639.48,-609 755.48,-609 755.48,-609 761.48,-609 767.48,-615 767.48,-621 767.48,-621 767.48,-665 767.48,-665 767.48,-671 761.48,-677 755.48,-677\"/>\n",
       "<text text-anchor=\"start\" x=\"653.98\" y=\"-661.8\" font-family=\"Helvetica,sans-Serif\" font-size=\"14.00\">Pclass ≤ 1.5</text>\n",
       "<text text-anchor=\"start\" x=\"657.98\" y=\"-646.8\" font-family=\"Helvetica,sans-Serif\" font-size=\"14.00\">gini = 0.32</text>\n",
       "<text text-anchor=\"start\" x=\"644.48\" y=\"-631.8\" font-family=\"Helvetica,sans-Serif\" font-size=\"14.00\">samples = 458</text>\n",
       "<text text-anchor=\"start\" x=\"635.48\" y=\"-616.8\" font-family=\"Helvetica,sans-Serif\" font-size=\"14.00\">value = [368, 90]</text>\n",
       "</g>\n",
       "<!-- 0&#45;&gt;8 -->\n",
       "<g id=\"edge8\" class=\"edge\">\n",
       "<title>0&#45;&gt;8</title>\n",
       "<path fill=\"none\" stroke=\"black\" d=\"M623.87,-712.88C633.58,-703.8 644.22,-693.85 654.31,-684.4\"/>\n",
       "<polygon fill=\"black\" stroke=\"black\" points=\"656.99,-686.69 661.9,-677.3 652.21,-681.58 656.99,-686.69\"/>\n",
       "<text text-anchor=\"middle\" x=\"661.07\" y=\"-698.59\" font-family=\"Helvetica,sans-Serif\" font-size=\"14.00\">False</text>\n",
       "</g>\n",
       "<!-- 2 -->\n",
       "<g id=\"node3\" class=\"node\">\n",
       "<title>2</title>\n",
       "<path fill=\"#41a1e6\" stroke=\"black\" d=\"M329.98,-573C329.98,-573 222.98,-573 222.98,-573 216.98,-573 210.98,-567 210.98,-561 210.98,-561 210.98,-517 210.98,-517 210.98,-511 216.98,-505 222.98,-505 222.98,-505 329.98,-505 329.98,-505 335.98,-505 341.98,-511 341.98,-517 341.98,-517 341.98,-561 341.98,-561 341.98,-567 335.98,-573 329.98,-573\"/>\n",
       "<text text-anchor=\"start\" x=\"227.98\" y=\"-557.8\" font-family=\"Helvetica,sans-Serif\" font-size=\"14.00\">LogFare ≤ 3.4</text>\n",
       "<text text-anchor=\"start\" x=\"236.98\" y=\"-542.8\" font-family=\"Helvetica,sans-Serif\" font-size=\"14.00\">gini = 0.07</text>\n",
       "<text text-anchor=\"start\" x=\"223.48\" y=\"-527.8\" font-family=\"Helvetica,sans-Serif\" font-size=\"14.00\">samples = 135</text>\n",
       "<text text-anchor=\"start\" x=\"218.98\" y=\"-512.8\" font-family=\"Helvetica,sans-Serif\" font-size=\"14.00\">value = [5, 130]</text>\n",
       "</g>\n",
       "<!-- 1&#45;&gt;2 -->\n",
       "<g id=\"edge2\" class=\"edge\">\n",
       "<title>1&#45;&gt;2</title>\n",
       "<path fill=\"none\" stroke=\"black\" d=\"M413.58,-608.88C393.61,-598.85 371.54,-587.76 351.04,-577.46\"/>\n",
       "<polygon fill=\"black\" stroke=\"black\" points=\"352.57,-574.31 342.06,-572.95 349.43,-580.57 352.57,-574.31\"/>\n",
       "</g>\n",
       "<!-- 5 -->\n",
       "<g id=\"node6\" class=\"node\">\n",
       "<title>5</title>\n",
       "<path fill=\"#fcf1e9\" stroke=\"black\" d=\"M536.98,-573C536.98,-573 429.98,-573 429.98,-573 423.98,-573 417.98,-567 417.98,-561 417.98,-561 417.98,-517 417.98,-517 417.98,-511 423.98,-505 429.98,-505 429.98,-505 536.98,-505 536.98,-505 542.98,-505 548.98,-511 548.98,-517 548.98,-517 548.98,-561 548.98,-561 548.98,-567 542.98,-573 536.98,-573\"/>\n",
       "<text text-anchor=\"start\" x=\"441.48\" y=\"-557.8\" font-family=\"Helvetica,sans-Serif\" font-size=\"14.00\">SibSp ≤ 0.5</text>\n",
       "<text text-anchor=\"start\" x=\"448.48\" y=\"-542.8\" font-family=\"Helvetica,sans-Serif\" font-size=\"14.00\">gini = 0.5</text>\n",
       "<text text-anchor=\"start\" x=\"430.48\" y=\"-527.8\" font-family=\"Helvetica,sans-Serif\" font-size=\"14.00\">samples = 119</text>\n",
       "<text text-anchor=\"start\" x=\"425.98\" y=\"-512.8\" font-family=\"Helvetica,sans-Serif\" font-size=\"14.00\">value = [63, 56]</text>\n",
       "</g>\n",
       "<!-- 1&#45;&gt;5 -->\n",
       "<g id=\"edge5\" class=\"edge\">\n",
       "<title>1&#45;&gt;5</title>\n",
       "<path fill=\"none\" stroke=\"black\" d=\"M480.78,-608.88C481.1,-600.78 481.45,-591.98 481.78,-583.47\"/>\n",
       "<polygon fill=\"black\" stroke=\"black\" points=\"485.28,-583.43 482.18,-573.3 478.29,-583.15 485.28,-583.43\"/>\n",
       "</g>\n",
       "<!-- 3 -->\n",
       "<g id=\"node4\" class=\"node\">\n",
       "<title>3</title>\n",
       "<path fill=\"#48a5e7\" stroke=\"black\" d=\"M133.48,-461.5C133.48,-461.5 35.48,-461.5 35.48,-461.5 29.48,-461.5 23.48,-455.5 23.48,-449.5 23.48,-449.5 23.48,-420.5 23.48,-420.5 23.48,-414.5 29.48,-408.5 35.48,-408.5 35.48,-408.5 133.48,-408.5 133.48,-408.5 139.48,-408.5 145.48,-414.5 145.48,-420.5 145.48,-420.5 145.48,-449.5 145.48,-449.5 145.48,-455.5 139.48,-461.5 133.48,-461.5\"/>\n",
       "<text text-anchor=\"start\" x=\"44.98\" y=\"-446.3\" font-family=\"Helvetica,sans-Serif\" font-size=\"14.00\">gini = 0.13</text>\n",
       "<text text-anchor=\"start\" x=\"35.98\" y=\"-431.3\" font-family=\"Helvetica,sans-Serif\" font-size=\"14.00\">samples = 56</text>\n",
       "<text text-anchor=\"start\" x=\"31.48\" y=\"-416.3\" font-family=\"Helvetica,sans-Serif\" font-size=\"14.00\">value = [4, 52]</text>\n",
       "</g>\n",
       "<!-- 2&#45;&gt;3 -->\n",
       "<g id=\"edge3\" class=\"edge\">\n",
       "<title>2&#45;&gt;3</title>\n",
       "<path fill=\"none\" stroke=\"black\" d=\"M214.15,-504.88C190.75,-492.46 164.31,-478.41 141.43,-466.25\"/>\n",
       "<polygon fill=\"black\" stroke=\"black\" points=\"142.99,-463.12 132.52,-461.52 139.71,-469.3 142.99,-463.12\"/>\n",
       "</g>\n",
       "<!-- 4 -->\n",
       "<g id=\"node5\" class=\"node\">\n",
       "<title>4</title>\n",
       "<path fill=\"#3c9ee5\" stroke=\"black\" d=\"M327.48,-461.5C327.48,-461.5 229.48,-461.5 229.48,-461.5 223.48,-461.5 217.48,-455.5 217.48,-449.5 217.48,-449.5 217.48,-420.5 217.48,-420.5 217.48,-414.5 223.48,-408.5 229.48,-408.5 229.48,-408.5 327.48,-408.5 327.48,-408.5 333.48,-408.5 339.48,-414.5 339.48,-420.5 339.48,-420.5 339.48,-449.5 339.48,-449.5 339.48,-455.5 333.48,-461.5 327.48,-461.5\"/>\n",
       "<text text-anchor=\"start\" x=\"238.98\" y=\"-446.3\" font-family=\"Helvetica,sans-Serif\" font-size=\"14.00\">gini = 0.02</text>\n",
       "<text text-anchor=\"start\" x=\"229.98\" y=\"-431.3\" font-family=\"Helvetica,sans-Serif\" font-size=\"14.00\">samples = 79</text>\n",
       "<text text-anchor=\"start\" x=\"225.48\" y=\"-416.3\" font-family=\"Helvetica,sans-Serif\" font-size=\"14.00\">value = [1, 78]</text>\n",
       "</g>\n",
       "<!-- 2&#45;&gt;4 -->\n",
       "<g id=\"edge4\" class=\"edge\">\n",
       "<title>2&#45;&gt;4</title>\n",
       "<path fill=\"none\" stroke=\"black\" d=\"M277.13,-504.88C277.34,-494.22 277.58,-482.35 277.79,-471.52\"/>\n",
       "<polygon fill=\"black\" stroke=\"black\" points=\"281.29,-471.59 277.98,-461.52 274.29,-471.45 281.29,-471.59\"/>\n",
       "</g>\n",
       "<!-- 6 -->\n",
       "<g id=\"node7\" class=\"node\">\n",
       "<title>6</title>\n",
       "<path fill=\"#d4eaf9\" stroke=\"black\" d=\"M534.98,-461.5C534.98,-461.5 427.98,-461.5 427.98,-461.5 421.98,-461.5 415.98,-455.5 415.98,-449.5 415.98,-449.5 415.98,-420.5 415.98,-420.5 415.98,-414.5 421.98,-408.5 427.98,-408.5 427.98,-408.5 534.98,-408.5 534.98,-408.5 540.98,-408.5 546.98,-414.5 546.98,-420.5 546.98,-420.5 546.98,-449.5 546.98,-449.5 546.98,-455.5 540.98,-461.5 534.98,-461.5\"/>\n",
       "<text text-anchor=\"start\" x=\"441.98\" y=\"-446.3\" font-family=\"Helvetica,sans-Serif\" font-size=\"14.00\">gini = 0.49</text>\n",
       "<text text-anchor=\"start\" x=\"432.98\" y=\"-431.3\" font-family=\"Helvetica,sans-Serif\" font-size=\"14.00\">samples = 66</text>\n",
       "<text text-anchor=\"start\" x=\"423.98\" y=\"-416.3\" font-family=\"Helvetica,sans-Serif\" font-size=\"14.00\">value = [29, 37]</text>\n",
       "</g>\n",
       "<!-- 5&#45;&gt;6 -->\n",
       "<g id=\"edge6\" class=\"edge\">\n",
       "<title>5&#45;&gt;6</title>\n",
       "<path fill=\"none\" stroke=\"black\" d=\"M482.83,-504.88C482.63,-494.22 482.39,-482.35 482.18,-471.52\"/>\n",
       "<polygon fill=\"black\" stroke=\"black\" points=\"485.68,-471.45 481.98,-461.52 478.68,-471.59 485.68,-471.45\"/>\n",
       "</g>\n",
       "<!-- 7 -->\n",
       "<g id=\"node8\" class=\"node\">\n",
       "<title>7</title>\n",
       "<path fill=\"#f4c7a8\" stroke=\"black\" d=\"M741.98,-461.5C741.98,-461.5 634.98,-461.5 634.98,-461.5 628.98,-461.5 622.98,-455.5 622.98,-449.5 622.98,-449.5 622.98,-420.5 622.98,-420.5 622.98,-414.5 628.98,-408.5 634.98,-408.5 634.98,-408.5 741.98,-408.5 741.98,-408.5 747.98,-408.5 753.98,-414.5 753.98,-420.5 753.98,-420.5 753.98,-449.5 753.98,-449.5 753.98,-455.5 747.98,-461.5 741.98,-461.5\"/>\n",
       "<text text-anchor=\"start\" x=\"648.98\" y=\"-446.3\" font-family=\"Helvetica,sans-Serif\" font-size=\"14.00\">gini = 0.46</text>\n",
       "<text text-anchor=\"start\" x=\"639.98\" y=\"-431.3\" font-family=\"Helvetica,sans-Serif\" font-size=\"14.00\">samples = 53</text>\n",
       "<text text-anchor=\"start\" x=\"630.98\" y=\"-416.3\" font-family=\"Helvetica,sans-Serif\" font-size=\"14.00\">value = [34, 19]</text>\n",
       "</g>\n",
       "<!-- 5&#45;&gt;7 -->\n",
       "<g id=\"edge7\" class=\"edge\">\n",
       "<title>5&#45;&gt;7</title>\n",
       "<path fill=\"none\" stroke=\"black\" d=\"M549.19,-505.31C574.43,-492.75 603.09,-478.49 627.83,-466.18\"/>\n",
       "<polygon fill=\"black\" stroke=\"black\" points=\"629.71,-469.15 637.1,-461.56 626.59,-462.89 629.71,-469.15\"/>\n",
       "</g>\n",
       "<!-- 9 -->\n",
       "<g id=\"node10\" class=\"node\">\n",
       "<title>9</title>\n",
       "<path fill=\"#f4cbae\" stroke=\"black\" d=\"M748.98,-565.5C748.98,-565.5 641.98,-565.5 641.98,-565.5 635.98,-565.5 629.98,-559.5 629.98,-553.5 629.98,-553.5 629.98,-524.5 629.98,-524.5 629.98,-518.5 635.98,-512.5 641.98,-512.5 641.98,-512.5 748.98,-512.5 748.98,-512.5 754.98,-512.5 760.98,-518.5 760.98,-524.5 760.98,-524.5 760.98,-553.5 760.98,-553.5 760.98,-559.5 754.98,-565.5 748.98,-565.5\"/>\n",
       "<text text-anchor=\"start\" x=\"655.98\" y=\"-550.3\" font-family=\"Helvetica,sans-Serif\" font-size=\"14.00\">gini = 0.47</text>\n",
       "<text text-anchor=\"start\" x=\"646.98\" y=\"-535.3\" font-family=\"Helvetica,sans-Serif\" font-size=\"14.00\">samples = 97</text>\n",
       "<text text-anchor=\"start\" x=\"637.98\" y=\"-520.3\" font-family=\"Helvetica,sans-Serif\" font-size=\"14.00\">value = [61, 36]</text>\n",
       "</g>\n",
       "<!-- 8&#45;&gt;9 -->\n",
       "<g id=\"edge9\" class=\"edge\">\n",
       "<title>8&#45;&gt;9</title>\n",
       "<path fill=\"none\" stroke=\"black\" d=\"M696.83,-608.88C696.63,-598.22 696.39,-586.35 696.18,-575.52\"/>\n",
       "<polygon fill=\"black\" stroke=\"black\" points=\"699.68,-575.45 695.98,-565.52 692.68,-575.59 699.68,-575.45\"/>\n",
       "</g>\n",
       "<!-- 10 -->\n",
       "<g id=\"node11\" class=\"node\">\n",
       "<title>10</title>\n",
       "<path fill=\"#ea975c\" stroke=\"black\" d=\"M966.48,-573C966.48,-573 850.48,-573 850.48,-573 844.48,-573 838.48,-567 838.48,-561 838.48,-561 838.48,-517 838.48,-517 838.48,-511 844.48,-505 850.48,-505 850.48,-505 966.48,-505 966.48,-505 972.48,-505 978.48,-511 978.48,-517 978.48,-517 978.48,-561 978.48,-561 978.48,-567 972.48,-573 966.48,-573\"/>\n",
       "<text text-anchor=\"start\" x=\"868.48\" y=\"-557.8\" font-family=\"Helvetica,sans-Serif\" font-size=\"14.00\">Age ≤ 18.5</text>\n",
       "<text text-anchor=\"start\" x=\"868.98\" y=\"-542.8\" font-family=\"Helvetica,sans-Serif\" font-size=\"14.00\">gini = 0.25</text>\n",
       "<text text-anchor=\"start\" x=\"855.48\" y=\"-527.8\" font-family=\"Helvetica,sans-Serif\" font-size=\"14.00\">samples = 361</text>\n",
       "<text text-anchor=\"start\" x=\"846.48\" y=\"-512.8\" font-family=\"Helvetica,sans-Serif\" font-size=\"14.00\">value = [307, 54]</text>\n",
       "</g>\n",
       "<!-- 8&#45;&gt;10 -->\n",
       "<g id=\"edge10\" class=\"edge\">\n",
       "<title>8&#45;&gt;10</title>\n",
       "<path fill=\"none\" stroke=\"black\" d=\"M765.99,-608.88C786.73,-598.86 809.66,-587.77 830.95,-577.48\"/>\n",
       "<polygon fill=\"black\" stroke=\"black\" points=\"832.48,-580.63 839.96,-573.12 829.43,-574.33 832.48,-580.63\"/>\n",
       "</g>\n",
       "<!-- 11 -->\n",
       "<g id=\"node12\" class=\"node\">\n",
       "<title>11</title>\n",
       "<path fill=\"#f1bc96\" stroke=\"black\" d=\"M954.98,-461.5C954.98,-461.5 847.98,-461.5 847.98,-461.5 841.98,-461.5 835.98,-455.5 835.98,-449.5 835.98,-449.5 835.98,-420.5 835.98,-420.5 835.98,-414.5 841.98,-408.5 847.98,-408.5 847.98,-408.5 954.98,-408.5 954.98,-408.5 960.98,-408.5 966.98,-414.5 966.98,-420.5 966.98,-420.5 966.98,-449.5 966.98,-449.5 966.98,-455.5 960.98,-461.5 954.98,-461.5\"/>\n",
       "<text text-anchor=\"start\" x=\"861.98\" y=\"-446.3\" font-family=\"Helvetica,sans-Serif\" font-size=\"14.00\">gini = 0.44</text>\n",
       "<text text-anchor=\"start\" x=\"852.98\" y=\"-431.3\" font-family=\"Helvetica,sans-Serif\" font-size=\"14.00\">samples = 50</text>\n",
       "<text text-anchor=\"start\" x=\"843.98\" y=\"-416.3\" font-family=\"Helvetica,sans-Serif\" font-size=\"14.00\">value = [34, 16]</text>\n",
       "</g>\n",
       "<!-- 10&#45;&gt;11 -->\n",
       "<g id=\"edge11\" class=\"edge\">\n",
       "<title>10&#45;&gt;11</title>\n",
       "<path fill=\"none\" stroke=\"black\" d=\"M906.21,-504.88C905.48,-494.22 904.67,-482.35 903.92,-471.52\"/>\n",
       "<polygon fill=\"black\" stroke=\"black\" points=\"907.41,-471.26 903.24,-461.52 900.43,-471.74 907.41,-471.26\"/>\n",
       "</g>\n",
       "<!-- 12 -->\n",
       "<g id=\"node13\" class=\"node\">\n",
       "<title>12</title>\n",
       "<path fill=\"#e99355\" stroke=\"black\" d=\"M1172.48,-469C1172.48,-469 1056.48,-469 1056.48,-469 1050.48,-469 1044.48,-463 1044.48,-457 1044.48,-457 1044.48,-413 1044.48,-413 1044.48,-407 1050.48,-401 1056.48,-401 1056.48,-401 1172.48,-401 1172.48,-401 1178.48,-401 1184.48,-407 1184.48,-413 1184.48,-413 1184.48,-457 1184.48,-457 1184.48,-463 1178.48,-469 1172.48,-469\"/>\n",
       "<text text-anchor=\"start\" x=\"1074.48\" y=\"-453.8\" font-family=\"Helvetica,sans-Serif\" font-size=\"14.00\">Age ≤ 32.5</text>\n",
       "<text text-anchor=\"start\" x=\"1074.98\" y=\"-438.8\" font-family=\"Helvetica,sans-Serif\" font-size=\"14.00\">gini = 0.21</text>\n",
       "<text text-anchor=\"start\" x=\"1061.48\" y=\"-423.8\" font-family=\"Helvetica,sans-Serif\" font-size=\"14.00\">samples = 311</text>\n",
       "<text text-anchor=\"start\" x=\"1052.48\" y=\"-408.8\" font-family=\"Helvetica,sans-Serif\" font-size=\"14.00\">value = [273, 38]</text>\n",
       "</g>\n",
       "<!-- 10&#45;&gt;12 -->\n",
       "<g id=\"edge12\" class=\"edge\">\n",
       "<title>10&#45;&gt;12</title>\n",
       "<path fill=\"none\" stroke=\"black\" d=\"M975.37,-504.88C995.53,-494.9 1017.8,-483.87 1038.51,-473.62\"/>\n",
       "<polygon fill=\"black\" stroke=\"black\" points=\"1040.18,-476.7 1047.59,-469.12 1037.07,-470.43 1040.18,-476.7\"/>\n",
       "</g>\n",
       "<!-- 13 -->\n",
       "<g id=\"node14\" class=\"node\">\n",
       "<title>13</title>\n",
       "<path fill=\"#e9975b\" stroke=\"black\" d=\"M1068.48,-365C1068.48,-365 952.48,-365 952.48,-365 946.48,-365 940.48,-359 940.48,-353 940.48,-353 940.48,-309 940.48,-309 940.48,-303 946.48,-297 952.48,-297 952.48,-297 1068.48,-297 1068.48,-297 1074.48,-297 1080.48,-303 1080.48,-309 1080.48,-309 1080.48,-353 1080.48,-353 1080.48,-359 1074.48,-365 1068.48,-365\"/>\n",
       "<text text-anchor=\"start\" x=\"965.98\" y=\"-349.8\" font-family=\"Helvetica,sans-Serif\" font-size=\"14.00\">Age ≤ 24.75</text>\n",
       "<text text-anchor=\"start\" x=\"970.98\" y=\"-334.8\" font-family=\"Helvetica,sans-Serif\" font-size=\"14.00\">gini = 0.25</text>\n",
       "<text text-anchor=\"start\" x=\"957.48\" y=\"-319.8\" font-family=\"Helvetica,sans-Serif\" font-size=\"14.00\">samples = 232</text>\n",
       "<text text-anchor=\"start\" x=\"948.48\" y=\"-304.8\" font-family=\"Helvetica,sans-Serif\" font-size=\"14.00\">value = [198, 34]</text>\n",
       "</g>\n",
       "<!-- 12&#45;&gt;13 -->\n",
       "<g id=\"edge13\" class=\"edge\">\n",
       "<title>12&#45;&gt;13</title>\n",
       "<path fill=\"none\" stroke=\"black\" d=\"M1080.72,-400.88C1071.45,-391.8 1061.31,-381.85 1051.68,-372.4\"/>\n",
       "<polygon fill=\"black\" stroke=\"black\" points=\"1054.03,-369.8 1044.44,-365.3 1049.13,-374.8 1054.03,-369.8\"/>\n",
       "</g>\n",
       "<!-- 20 -->\n",
       "<g id=\"node21\" class=\"node\">\n",
       "<title>20</title>\n",
       "<path fill=\"#e68844\" stroke=\"black\" d=\"M1266.48,-357.5C1266.48,-357.5 1168.48,-357.5 1168.48,-357.5 1162.48,-357.5 1156.48,-351.5 1156.48,-345.5 1156.48,-345.5 1156.48,-316.5 1156.48,-316.5 1156.48,-310.5 1162.48,-304.5 1168.48,-304.5 1168.48,-304.5 1266.48,-304.5 1266.48,-304.5 1272.48,-304.5 1278.48,-310.5 1278.48,-316.5 1278.48,-316.5 1278.48,-345.5 1278.48,-345.5 1278.48,-351.5 1272.48,-357.5 1266.48,-357.5\"/>\n",
       "<text text-anchor=\"start\" x=\"1182.48\" y=\"-342.3\" font-family=\"Helvetica,sans-Serif\" font-size=\"14.00\">gini = 0.1</text>\n",
       "<text text-anchor=\"start\" x=\"1168.98\" y=\"-327.3\" font-family=\"Helvetica,sans-Serif\" font-size=\"14.00\">samples = 79</text>\n",
       "<text text-anchor=\"start\" x=\"1164.48\" y=\"-312.3\" font-family=\"Helvetica,sans-Serif\" font-size=\"14.00\">value = [75, 4]</text>\n",
       "</g>\n",
       "<!-- 12&#45;&gt;20 -->\n",
       "<g id=\"edge20\" class=\"edge\">\n",
       "<title>12&#45;&gt;20</title>\n",
       "<path fill=\"none\" stroke=\"black\" d=\"M1147.93,-400.88C1159.59,-389.34 1172.66,-376.39 1184.3,-364.86\"/>\n",
       "<polygon fill=\"black\" stroke=\"black\" points=\"1187.07,-367.04 1191.71,-357.52 1182.15,-362.07 1187.07,-367.04\"/>\n",
       "</g>\n",
       "<!-- 14 -->\n",
       "<g id=\"node15\" class=\"node\">\n",
       "<title>14</title>\n",
       "<path fill=\"#e89153\" stroke=\"black\" d=\"M962.48,-261C962.48,-261 846.48,-261 846.48,-261 840.48,-261 834.48,-255 834.48,-249 834.48,-249 834.48,-205 834.48,-205 834.48,-199 840.48,-193 846.48,-193 846.48,-193 962.48,-193 962.48,-193 968.48,-193 974.48,-199 974.48,-205 974.48,-205 974.48,-249 974.48,-249 974.48,-255 968.48,-261 962.48,-261\"/>\n",
       "<text text-anchor=\"start\" x=\"851.48\" y=\"-245.8\" font-family=\"Helvetica,sans-Serif\" font-size=\"14.00\">LogFare ≤ 2.21</text>\n",
       "<text text-anchor=\"start\" x=\"869.48\" y=\"-230.8\" font-family=\"Helvetica,sans-Serif\" font-size=\"14.00\">gini = 0.2</text>\n",
       "<text text-anchor=\"start\" x=\"851.48\" y=\"-215.8\" font-family=\"Helvetica,sans-Serif\" font-size=\"14.00\">samples = 156</text>\n",
       "<text text-anchor=\"start\" x=\"842.48\" y=\"-200.8\" font-family=\"Helvetica,sans-Serif\" font-size=\"14.00\">value = [138, 18]</text>\n",
       "</g>\n",
       "<!-- 13&#45;&gt;14 -->\n",
       "<g id=\"edge14\" class=\"edge\">\n",
       "<title>13&#45;&gt;14</title>\n",
       "<path fill=\"none\" stroke=\"black\" d=\"M976.07,-296.88C966.63,-287.8 956.28,-277.85 946.47,-268.4\"/>\n",
       "<polygon fill=\"black\" stroke=\"black\" points=\"948.72,-265.71 939.09,-261.3 943.87,-270.76 948.72,-265.71\"/>\n",
       "</g>\n",
       "<!-- 19 -->\n",
       "<g id=\"node20\" class=\"node\">\n",
       "<title>19</title>\n",
       "<path fill=\"#eca36e\" stroke=\"black\" d=\"M1170.98,-253.5C1170.98,-253.5 1063.98,-253.5 1063.98,-253.5 1057.98,-253.5 1051.98,-247.5 1051.98,-241.5 1051.98,-241.5 1051.98,-212.5 1051.98,-212.5 1051.98,-206.5 1057.98,-200.5 1063.98,-200.5 1063.98,-200.5 1170.98,-200.5 1170.98,-200.5 1176.98,-200.5 1182.98,-206.5 1182.98,-212.5 1182.98,-212.5 1182.98,-241.5 1182.98,-241.5 1182.98,-247.5 1176.98,-253.5 1170.98,-253.5\"/>\n",
       "<text text-anchor=\"start\" x=\"1077.98\" y=\"-238.3\" font-family=\"Helvetica,sans-Serif\" font-size=\"14.00\">gini = 0.33</text>\n",
       "<text text-anchor=\"start\" x=\"1068.98\" y=\"-223.3\" font-family=\"Helvetica,sans-Serif\" font-size=\"14.00\">samples = 76</text>\n",
       "<text text-anchor=\"start\" x=\"1059.98\" y=\"-208.3\" font-family=\"Helvetica,sans-Serif\" font-size=\"14.00\">value = [60, 16]</text>\n",
       "</g>\n",
       "<!-- 13&#45;&gt;19 -->\n",
       "<g id=\"edge19\" class=\"edge\">\n",
       "<title>13&#45;&gt;19</title>\n",
       "<path fill=\"none\" stroke=\"black\" d=\"M1045.22,-296.88C1057.45,-285.23 1071.18,-272.14 1083.36,-260.53\"/>\n",
       "<polygon fill=\"black\" stroke=\"black\" points=\"1085.89,-262.95 1090.71,-253.52 1081.06,-257.89 1085.89,-262.95\"/>\n",
       "</g>\n",
       "<!-- 15 -->\n",
       "<g id=\"node16\" class=\"node\">\n",
       "<title>15</title>\n",
       "<path fill=\"#e78c4a\" stroke=\"black\" d=\"M853.48,-157C853.48,-157 755.48,-157 755.48,-157 749.48,-157 743.48,-151 743.48,-145 743.48,-145 743.48,-101 743.48,-101 743.48,-95 749.48,-89 755.48,-89 755.48,-89 853.48,-89 853.48,-89 859.48,-89 865.48,-95 865.48,-101 865.48,-101 865.48,-145 865.48,-145 865.48,-151 859.48,-157 853.48,-157\"/>\n",
       "<text text-anchor=\"start\" x=\"751.48\" y=\"-141.8\" font-family=\"Helvetica,sans-Serif\" font-size=\"14.00\">LogFare ≤ 2.17</text>\n",
       "<text text-anchor=\"start\" x=\"764.98\" y=\"-126.8\" font-family=\"Helvetica,sans-Serif\" font-size=\"14.00\">gini = 0.14</text>\n",
       "<text text-anchor=\"start\" x=\"751.48\" y=\"-111.8\" font-family=\"Helvetica,sans-Serif\" font-size=\"14.00\">samples = 102</text>\n",
       "<text text-anchor=\"start\" x=\"751.48\" y=\"-96.8\" font-family=\"Helvetica,sans-Serif\" font-size=\"14.00\">value = [94, 8]</text>\n",
       "</g>\n",
       "<!-- 14&#45;&gt;15 -->\n",
       "<g id=\"edge15\" class=\"edge\">\n",
       "<title>14&#45;&gt;15</title>\n",
       "<path fill=\"none\" stroke=\"black\" d=\"M872.02,-192.88C863.2,-183.89 853.54,-174.04 844.36,-164.68\"/>\n",
       "<polygon fill=\"black\" stroke=\"black\" points=\"846.63,-161.99 837.13,-157.3 841.63,-166.89 846.63,-161.99\"/>\n",
       "</g>\n",
       "<!-- 18 -->\n",
       "<g id=\"node19\" class=\"node\">\n",
       "<title>18</title>\n",
       "<path fill=\"#eb9e66\" stroke=\"black\" d=\"M1058.98,-149.5C1058.98,-149.5 951.98,-149.5 951.98,-149.5 945.98,-149.5 939.98,-143.5 939.98,-137.5 939.98,-137.5 939.98,-108.5 939.98,-108.5 939.98,-102.5 945.98,-96.5 951.98,-96.5 951.98,-96.5 1058.98,-96.5 1058.98,-96.5 1064.98,-96.5 1070.98,-102.5 1070.98,-108.5 1070.98,-108.5 1070.98,-137.5 1070.98,-137.5 1070.98,-143.5 1064.98,-149.5 1058.98,-149.5\"/>\n",
       "<text text-anchor=\"start\" x=\"970.48\" y=\"-134.3\" font-family=\"Helvetica,sans-Serif\" font-size=\"14.00\">gini = 0.3</text>\n",
       "<text text-anchor=\"start\" x=\"956.98\" y=\"-119.3\" font-family=\"Helvetica,sans-Serif\" font-size=\"14.00\">samples = 54</text>\n",
       "<text text-anchor=\"start\" x=\"947.98\" y=\"-104.3\" font-family=\"Helvetica,sans-Serif\" font-size=\"14.00\">value = [44, 10]</text>\n",
       "</g>\n",
       "<!-- 14&#45;&gt;18 -->\n",
       "<g id=\"edge18\" class=\"edge\">\n",
       "<title>14&#45;&gt;18</title>\n",
       "<path fill=\"none\" stroke=\"black\" d=\"M937.28,-192.88C948.71,-181.34 961.53,-168.39 972.95,-156.86\"/>\n",
       "<polygon fill=\"black\" stroke=\"black\" points=\"975.67,-159.09 980.21,-149.52 970.69,-154.16 975.67,-159.09\"/>\n",
       "</g>\n",
       "<!-- 16 -->\n",
       "<g id=\"node17\" class=\"node\">\n",
       "<title>16</title>\n",
       "<path fill=\"#e88e4e\" stroke=\"black\" d=\"M756.48,-52.5C756.48,-52.5 658.48,-52.5 658.48,-52.5 652.48,-52.5 646.48,-46.5 646.48,-40.5 646.48,-40.5 646.48,-11.5 646.48,-11.5 646.48,-5.5 652.48,0.5 658.48,0.5 658.48,0.5 756.48,0.5 756.48,0.5 762.48,0.5 768.48,-5.5 768.48,-11.5 768.48,-11.5 768.48,-40.5 768.48,-40.5 768.48,-46.5 762.48,-52.5 756.48,-52.5\"/>\n",
       "<text text-anchor=\"start\" x=\"667.98\" y=\"-37.3\" font-family=\"Helvetica,sans-Serif\" font-size=\"14.00\">gini = 0.17</text>\n",
       "<text text-anchor=\"start\" x=\"658.98\" y=\"-22.3\" font-family=\"Helvetica,sans-Serif\" font-size=\"14.00\">samples = 52</text>\n",
       "<text text-anchor=\"start\" x=\"654.48\" y=\"-7.3\" font-family=\"Helvetica,sans-Serif\" font-size=\"14.00\">value = [47, 5]</text>\n",
       "</g>\n",
       "<!-- 15&#45;&gt;16 -->\n",
       "<g id=\"edge16\" class=\"edge\">\n",
       "<title>15&#45;&gt;16</title>\n",
       "<path fill=\"none\" stroke=\"black\" d=\"M770.56,-88.77C760.89,-79.31 750.38,-69.01 740.75,-59.58\"/>\n",
       "<polygon fill=\"black\" stroke=\"black\" points=\"743.19,-57.07 733.59,-52.57 738.29,-62.07 743.19,-57.07\"/>\n",
       "</g>\n",
       "<!-- 17 -->\n",
       "<g id=\"node18\" class=\"node\">\n",
       "<title>17</title>\n",
       "<path fill=\"#e78946\" stroke=\"black\" d=\"M950.48,-52.5C950.48,-52.5 852.48,-52.5 852.48,-52.5 846.48,-52.5 840.48,-46.5 840.48,-40.5 840.48,-40.5 840.48,-11.5 840.48,-11.5 840.48,-5.5 846.48,0.5 852.48,0.5 852.48,0.5 950.48,0.5 950.48,0.5 956.48,0.5 962.48,-5.5 962.48,-11.5 962.48,-11.5 962.48,-40.5 962.48,-40.5 962.48,-46.5 956.48,-52.5 950.48,-52.5\"/>\n",
       "<text text-anchor=\"start\" x=\"861.98\" y=\"-37.3\" font-family=\"Helvetica,sans-Serif\" font-size=\"14.00\">gini = 0.11</text>\n",
       "<text text-anchor=\"start\" x=\"852.98\" y=\"-22.3\" font-family=\"Helvetica,sans-Serif\" font-size=\"14.00\">samples = 50</text>\n",
       "<text text-anchor=\"start\" x=\"848.48\" y=\"-7.3\" font-family=\"Helvetica,sans-Serif\" font-size=\"14.00\">value = [47, 3]</text>\n",
       "</g>\n",
       "<!-- 15&#45;&gt;17 -->\n",
       "<g id=\"edge17\" class=\"edge\">\n",
       "<title>15&#45;&gt;17</title>\n",
       "<path fill=\"none\" stroke=\"black\" d=\"M838.41,-88.77C848.07,-79.31 858.59,-69.01 868.22,-59.58\"/>\n",
       "<polygon fill=\"black\" stroke=\"black\" points=\"870.68,-62.07 875.37,-52.57 865.78,-57.07 870.68,-62.07\"/>\n",
       "</g>\n",
       "</g>\n",
       "</svg>\n"
      ],
      "text/plain": [
       "<graphviz.sources.Source at 0x7fd1d43e3760>"
      ]
     },
     "execution_count": 120,
     "metadata": {},
     "output_type": "execute_result"
    }
   ],
   "source": [
    "m = DecisionTreeClassifier(min_samples_leaf=50)\n",
    "m.fit(trn_xs, trn_y)\n",
    "draw_tree(m, trn_xs, size=25)"
   ]
  },
  {
   "cell_type": "code",
   "execution_count": 121,
   "id": "f64ad1ab-d28f-4659-8578-0bca8485b5f2",
   "metadata": {},
   "outputs": [
    {
     "data": {
      "text/plain": [
       "0.1787709497206704"
      ]
     },
     "execution_count": 121,
     "metadata": {},
     "output_type": "execute_result"
    }
   ],
   "source": [
    "mean_absolute_error(val_y, m.predict(val_xs))"
   ]
  },
  {
   "cell_type": "markdown",
   "id": "de1d381d-edc9-4bf7-974b-645f1767a11a",
   "metadata": {},
   "source": [
    "## Random Forest"
   ]
  },
  {
   "cell_type": "markdown",
   "id": "7c1191c8-6aaf-44be-b14f-fc9ba21a9962",
   "metadata": {},
   "source": [
    "This is a better model. Now remember when Goku from DragonBall says \"you haven't seen my final form yet\", what happens next is the machine learning version of it. In a decision tree, the threshold value of the split is determined by the portion of data or the training dataset exposed to the model. One way to improve upon this is to select indexes at random for training and build multiple trees, their average predict probability should ideally be a better model than a single decision tree.  This is the final form, called a Random Forest model."
   ]
  },
  {
   "cell_type": "code",
   "execution_count": 131,
   "id": "e008990c-c879-4d15-9bb3-f56535484a76",
   "metadata": {},
   "outputs": [
    {
     "data": {
      "text/plain": [
       "0.19145251396648041"
      ]
     },
     "execution_count": 131,
     "metadata": {},
     "output_type": "execute_result"
    }
   ],
   "source": [
    "def get_tree(prop=0.7):\n",
    "    n = len(trn_y)\n",
    "    idx = np.random.choice(n, int(n*prop), replace = False)\n",
    "    return DecisionTreeClassifier(min_samples_leaf = 5).fit(trn_xs.iloc[idx], trn_y.iloc[idx])\n",
    "\n",
    "trees = [get_tree() for t in range(100)]\n",
    "\n",
    "all_probs = [t.predict(val_xs) for t in trees]\n",
    "avg_probs = np.stack(all_probs).mean(0)\n",
    "\n",
    "mean_absolute_error(avg_probs, val_y)"
   ]
  },
  {
   "cell_type": "markdown",
   "id": "2a038ce5-cc77-418d-a266-37c2fc3d84cd",
   "metadata": {},
   "source": [
    "Again, it is entirely possible that we may not see a huge increase in accuracy because of the limited data we are dealing with. However, the takeaway here is that this is exactly how scikit-learn's RandomForest model works"
   ]
  },
  {
   "cell_type": "code",
   "execution_count": 132,
   "id": "66e3aa3e-6498-437c-bfd1-6dd003316bea",
   "metadata": {},
   "outputs": [
    {
     "data": {
      "text/plain": [
       "0.18435754189944134"
      ]
     },
     "execution_count": 132,
     "metadata": {},
     "output_type": "execute_result"
    }
   ],
   "source": [
    "from sklearn.ensemble import RandomForestClassifier\n",
    "\n",
    "rf = RandomForestClassifier(100, min_samples_leaf =5)\n",
    "rf.fit(trn_xs, trn_y)\n",
    "mean_absolute_error(val_y, rf.predict(val_xs))"
   ]
  },
  {
   "cell_type": "markdown",
   "id": "93351056-079e-4388-b475-305e8816d591",
   "metadata": {},
   "source": [
    "Bummer, I do not want to talk anymore about performance. So let me show you RandomForest's `feature_importances_` that shows the model's understanding of main features in a dataset. As per Jeremy Howard, this is tougher to mess up so can be used as a default method to find feature importance as compared to others."
   ]
  },
  {
   "cell_type": "code",
   "execution_count": 133,
   "id": "b8d1f930-c6d9-4390-9a65-cc3f41617899",
   "metadata": {},
   "outputs": [
    {
     "data": {
      "text/plain": [
       "<Axes: ylabel='cols'>"
      ]
     },
     "execution_count": 133,
     "metadata": {},
     "output_type": "execute_result"
    },
    {
     "data": {
      "image/png": "[encoded data removed]",
      "text/plain": [
       "<Figure size 640x480 with 1 Axes>"
      ]
     },
     "metadata": {},
     "output_type": "display_data"
    }
   ],
   "source": [
    "pd.DataFrame(dict(cols=trn_xs.columns, imp=rf.feature_importances_)).plot('cols','imp','barh')"
   ]
  },
  {
   "cell_type": "code",
   "execution_count": 135,
   "id": "d0debd8f-c713-4e0d-964f-93fd8f9ac0c3",
   "metadata": {},
   "outputs": [],
   "source": [
    "tst_df[cat] = tst_df[cat].apply(lambda x: x.cat.codes)\n",
    "tst_xs,_ = xs_y(tst_df)\n",
    "\n",
    "def subm(preds, suff):\n",
    "    tst_df['Survived'] = preds\n",
    "    sub_df = tst_df[['PassengerId','Survived']]\n",
    "    sub_df.to_csv(f'sub-{suff}.csv', index=False)\n",
    "\n",
    "subm(rf.predict(tst_xs), 'tree')\n"
   ]
  },
  {
   "cell_type": "markdown",
   "id": "98d7fd3b-661c-4c13-b8aa-8b461c114fc7",
   "metadata": {},
   "source": [
    "Fin!"
   ]
  }
 ],
 "metadata": {
  "kernelspec": {
   "display_name": "fastwgpu2",
   "language": "python",
   "name": "fastwgpu2"
  },
  "language_info": {
   "codemirror_mode": {
    "name": "ipython",
    "version": 3
   },
   "file_extension": ".py",
   "mimetype": "text/x-python",
   "name": "python",
   "nbconvert_exporter": "python",
   "pygments_lexer": "ipython3",
   "version": "3.9.15"
  }
 },
 "nbformat": 4,
 "nbformat_minor": 5
}
